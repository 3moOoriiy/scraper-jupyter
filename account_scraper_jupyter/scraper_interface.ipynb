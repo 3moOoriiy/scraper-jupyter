{
 "cells": [
  {
   "cell_type": "code",
   "execution_count": 1,
   "id": "cd9e5570",
   "metadata": {},
   "outputs": [],
   "source": [
    "import ipywidgets as widgets\n",
    "from IPython.display import display\n",
    "import pandas as pd\n",
    "from scrapers import scrape_twitter, scrape_telegram, scrape_reddit, scrape_tiktok"
   ]
  },
  {
   "cell_type": "code",
   "execution_count": 2,
   "id": "027e4f10",
   "metadata": {},
   "outputs": [],
   "source": [
    "df = pd.DataFrame(columns=[\"Platform\", \"Account Name\", \"Account Bio\", \"Status\", \"Link\"])\n",
    "\n",
    "platform_dropdown = widgets.Dropdown(\n",
    "    options=['Twitter', 'Telegram', 'Reddit', 'TikTok'],\n",
    "    description='المنصة:'\n",
    ")\n",
    "url_input = widgets.Text(description='الرابط:')\n",
    "run_button = widgets.Button(description='ابدأ')\n",
    "output = widgets.Output()"
   ]
  },
  {
   "cell_type": "code",
   "execution_count": 3,
   "id": "0ddcac1c",
   "metadata": {},
   "outputs": [],
   "source": [
    "def run_scraper(b):\n",
    "    global df\n",
    "    with output:\n",
    "        output.clear_output()\n",
    "        platform = platform_dropdown.value\n",
    "        url = url_input.value.strip()\n",
    "\n",
    "        if not url:\n",
    "            print(\"❌ يرجى إدخال رابط الحساب.\")\n",
    "            return\n",
    "\n",
    "        print(f\"🔍 جاري سحب البيانات من {platform}...\")\n",
    "\n",
    "        if platform == 'Twitter':\n",
    "            result = scrape_twitter(url)\n",
    "        elif platform == 'Telegram':\n",
    "            result = scrape_telegram(url)\n",
    "        elif platform == 'Reddit':\n",
    "            result = scrape_reddit(url)\n",
    "        elif platform == 'TikTok':\n",
    "            result = scrape_tiktok(url)\n",
    "\n",
    "        df = pd.concat([df, pd.DataFrame([result])], ignore_index=True)\n",
    "        display(df)"
   ]
  },
  {
   "cell_type": "code",
   "execution_count": 4,
   "id": "ee4506fe",
   "metadata": {},
   "outputs": [
    {
     "data": {
      "application/vnd.jupyter.widget-view+json": {
       "model_id": "341fcc0fe6264211bd6e95a283410f85",
       "version_major": 2,
       "version_minor": 0
      },
      "text/plain": [
       "Dropdown(description='المنصة:', options=('Twitter', 'Telegram', 'Reddit', 'TikTok'), value='Twitter')"
      ]
     },
     "metadata": {},
     "output_type": "display_data"
    },
    {
     "data": {
      "application/vnd.jupyter.widget-view+json": {
       "model_id": "141bdfe76d6d4c6bbb97e7ca4432d945",
       "version_major": 2,
       "version_minor": 0
      },
      "text/plain": [
       "Text(value='', description='الرابط:')"
      ]
     },
     "metadata": {},
     "output_type": "display_data"
    },
    {
     "data": {
      "application/vnd.jupyter.widget-view+json": {
       "model_id": "cc07472530684257bb116550ded1fa12",
       "version_major": 2,
       "version_minor": 0
      },
      "text/plain": [
       "Button(description='ابدأ', style=ButtonStyle())"
      ]
     },
     "metadata": {},
     "output_type": "display_data"
    },
    {
     "data": {
      "application/vnd.jupyter.widget-view+json": {
       "model_id": "97bea9d47a8546f8af098df9e47cc7d8",
       "version_major": 2,
       "version_minor": 0
      },
      "text/plain": [
       "Output()"
      ]
     },
     "metadata": {},
     "output_type": "display_data"
    }
   ],
   "source": [
    "run_button.on_click(run_scraper)\n",
    "display(platform_dropdown, url_input, run_button, output)"
   ]
  }
 ],
 "metadata": {
  "kernelspec": {
   "display_name": "Python 3 (ipykernel)",
   "language": "python",
   "name": "python3"
  },
  "language_info": {
   "codemirror_mode": {
    "name": "ipython",
    "version": 3
   },
   "file_extension": ".py",
   "mimetype": "text/x-python",
   "name": "python",
   "nbconvert_exporter": "python",
   "pygments_lexer": "ipython3",
   "version": "3.7.16"
  }
 },
 "nbformat": 4,
 "nbformat_minor": 5
}
